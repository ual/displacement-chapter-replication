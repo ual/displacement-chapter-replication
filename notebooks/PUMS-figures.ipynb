{
 "cells": [
  {
   "cell_type": "markdown",
   "metadata": {},
   "source": [
    "# Replication notebook - PUMS figures\n",
    "\n",
    "Sam Maurer, December 2017, Python 3.6"
   ]
  },
  {
   "cell_type": "code",
   "execution_count": 2,
   "metadata": {},
   "outputs": [],
   "source": [
    "%matplotlib inline\n",
    "import matplotlib.pyplot as plt\n",
    "import numpy as np\n",
    "import pandas as pd\n",
    "import statsmodels.api as sm\n",
    "import zipfile"
   ]
  },
  {
   "cell_type": "code",
   "execution_count": null,
   "metadata": {},
   "outputs": [],
   "source": []
  },
  {
   "cell_type": "markdown",
   "metadata": {},
   "source": [
    "## Load ACS PUMS data\n",
    "\n",
    "2013, 1-year persons and households tables for California:  \n",
    "http://www2.census.gov/acs2013_1yr/pums/csv_pca.zip  \n",
    "http://www2.census.gov/acs2013_1yr/pums/csv_hca.zip"
   ]
  },
  {
   "cell_type": "code",
   "execution_count": 3,
   "metadata": {},
   "outputs": [],
   "source": [
    "# Load PUMS households table\n",
    "z = zipfile.ZipFile('/Users/smmaurer/Dropbox/Data/ACS PUMS/csv_hca.zip')\n",
    "pums = pd.read_csv(z.open('ss13hca.csv'), low_memory=False)"
   ]
  },
  {
   "cell_type": "code",
   "execution_count": 4,
   "metadata": {},
   "outputs": [
    {
     "name": "stdout",
     "output_type": "stream",
     "text": [
      "153589\n"
     ]
    }
   ],
   "source": [
    "print(len(pums))"
   ]
  },
  {
   "cell_type": "code",
   "execution_count": 5,
   "metadata": {},
   "outputs": [
    {
     "name": "stdout",
     "output_type": "stream",
     "text": [
      "31068\n"
     ]
    }
   ],
   "source": [
    "# Limit to Bay Area counties\n",
    "\n",
    "pums = pums.loc[(pums.PUMA//100).isin([1,13,41,55,75,81,85,95,97])]\n",
    "print(len(pums))"
   ]
  },
  {
   "cell_type": "code",
   "execution_count": 7,
   "metadata": {},
   "outputs": [],
   "source": [
    "# Load persons table\n",
    "z = zipfile.ZipFile('/Users/smmaurer/Dropbox/Data/ACS PUMS/csv_pca.zip')\n",
    "persons = pd.read_csv(z.open('ss13pca.csv'), low_memory=False)"
   ]
  },
  {
   "cell_type": "code",
   "execution_count": 8,
   "metadata": {},
   "outputs": [
    {
     "name": "stdout",
     "output_type": "stream",
     "text": [
      "371403\n"
     ]
    }
   ],
   "source": [
    "print(len(persons))"
   ]
  },
  {
   "cell_type": "code",
   "execution_count": 9,
   "metadata": {},
   "outputs": [
    {
     "name": "stdout",
     "output_type": "stream",
     "text": [
      "130145\n"
     ]
    }
   ],
   "source": [
    "# Keep householders and relevant colums\n",
    "persons = persons.loc[persons.RELP.isin([0]), ['SERIALNO','AGEP']]\n",
    "print(len(persons))"
   ]
  },
  {
   "cell_type": "code",
   "execution_count": 10,
   "metadata": {},
   "outputs": [
    {
     "name": "stdout",
     "output_type": "stream",
     "text": [
      "31068\n"
     ]
    }
   ],
   "source": [
    "# Merged with other table\n",
    "pums = pd.merge(pums, persons, how='left', on='SERIALNO')\n",
    "print(len(pums))"
   ]
  },
  {
   "cell_type": "code",
   "execution_count": 11,
   "metadata": {},
   "outputs": [
    {
     "name": "stdout",
     "output_type": "stream",
     "text": [
      "1.0    11974\n",
      "3.0    10168\n",
      "2.0     4847\n",
      "4.0      351\n",
      "Name: TEN, dtype: int64\n"
     ]
    }
   ],
   "source": [
    "# TEN = Tenure\n",
    "# 1 - owned with mortgage loan\n",
    "# 2 - owned free and clear\n",
    "# 3 - rented\n",
    "# 4 - occupied without payment of rent\n",
    "\n",
    "print(pums.TEN.value_counts())"
   ]
  },
  {
   "cell_type": "code",
   "execution_count": 12,
   "metadata": {},
   "outputs": [
    {
     "name": "stdout",
     "output_type": "stream",
     "text": [
      "5.0    5627\n",
      "3.0    5182\n",
      "4.0    4560\n",
      "7.0    3529\n",
      "1.0    3392\n",
      "6.0    3199\n",
      "2.0    1851\n",
      "Name: MV, dtype: int64\n"
     ]
    }
   ],
   "source": [
    "# MV = When moved into this house or apartment\n",
    "# 1 - 12 months or less\n",
    "\n",
    "print(pums.MV.value_counts())"
   ]
  },
  {
   "cell_type": "code",
   "execution_count": 13,
   "metadata": {},
   "outputs": [
    {
     "name": "stdout",
     "output_type": "stream",
     "text": [
      "2489\n",
      "861\n"
     ]
    }
   ],
   "source": [
    "print(len(pums.loc[pums.MV.isin([1]) & pums.TEN.isin([3])]))  # recent movers who rent\n",
    "print(len(pums.loc[pums.MV.isin([1]) & pums.TEN.isin([1,2])]))  # recent movers who own"
   ]
  },
  {
   "cell_type": "code",
   "execution_count": null,
   "metadata": {
    "collapsed": true
   },
   "outputs": [],
   "source": []
  },
  {
   "cell_type": "markdown",
   "metadata": {},
   "source": [
    "## Bar plot of rents by county"
   ]
  },
  {
   "cell_type": "code",
   "execution_count": 16,
   "metadata": {},
   "outputs": [
    {
     "name": "stdout",
     "output_type": "stream",
     "text": [
      "    rent  CFIPS\n",
      "0    NaN     85\n",
      "1  770.0      1\n",
      "2    NaN     85\n",
      "3    NaN     55\n",
      "4  750.0     13\n"
     ]
    }
   ],
   "source": [
    "pums['rent'] = pums.RNTP\n",
    "pums['CFIPS'] = pums.PUMA // 100  # 3 digits of county FIPS, 2 digits of PUMA id\n",
    "\n",
    "print(pums.loc[:,['rent','CFIPS']].head())"
   ]
  },
  {
   "cell_type": "code",
   "execution_count": 17,
   "metadata": {},
   "outputs": [
    {
     "data": {
      "text/plain": [
       "85    7348\n",
       "1     6949\n",
       "13    4019\n",
       "75    3739\n",
       "81    3031\n",
       "97    2203\n",
       "95    1809\n",
       "41    1179\n",
       "55     791\n",
       "Name: CFIPS, dtype: int64"
      ]
     },
     "execution_count": 17,
     "metadata": {},
     "output_type": "execute_result"
    }
   ],
   "source": [
    "pums.CFIPS.value_counts()"
   ]
  },
  {
   "cell_type": "code",
   "execution_count": null,
   "metadata": {},
   "outputs": [],
   "source": []
  },
  {
   "cell_type": "code",
   "execution_count": 18,
   "metadata": {},
   "outputs": [
    {
     "name": "stdout",
     "output_type": "stream",
     "text": [
      "CFIPS\n",
      "1     1400.0\n",
      "13    1300.0\n",
      "41    1600.0\n",
      "55    1700.0\n",
      "75    2000.0\n",
      "81    1800.0\n",
      "85    1700.0\n",
      "95    1200.0\n",
      "97    1300.0\n",
      "Name: rent, dtype: float64\n"
     ]
    }
   ],
   "source": [
    "movers = pums.loc[pums.moved == 1]\n",
    "movers_rent = movers.groupby('CFIPS').median().rent\n",
    "print(movers_rent)"
   ]
  },
  {
   "cell_type": "code",
   "execution_count": 19,
   "metadata": {},
   "outputs": [
    {
     "name": "stdout",
     "output_type": "stream",
     "text": [
      "CFIPS\n",
      "1     1200.0\n",
      "13    1300.0\n",
      "41    1500.0\n",
      "55    1200.0\n",
      "75    1400.0\n",
      "81    1500.0\n",
      "85    1500.0\n",
      "95    1100.0\n",
      "97    1200.0\n",
      "Name: rent, dtype: float64\n"
     ]
    }
   ],
   "source": [
    "non_movers = pums.loc[pums.moved == 0]\n",
    "non_movers_rent = non_movers.groupby('CFIPS').median().rent\n",
    "print(non_movers_rent)"
   ]
  },
  {
   "cell_type": "code",
   "execution_count": 35,
   "metadata": {},
   "outputs": [
    {
     "data": {
      "image/png": "[encoded data removed]",
      "text/plain": [
       "<matplotlib.figure.Figure at 0x11e30b0b8>"
      ]
     },
     "metadata": {},
     "output_type": "display_data"
    }
   ],
   "source": [
    "n = 9\n",
    "ind = np.arange(n)\n",
    "width = 0.3\n",
    "\n",
    "fig, ax = plt.subplots(figsize=(10,5))\n",
    "rects1 = ax.bar(ind, non_movers_rent, width, color=(0.6, 0.6, 0.6))\n",
    "rects2 = ax.bar(ind+width, movers_rent, width, color=(0.2, 0.2, 0.2))\n",
    "\n",
    "ax.set_ylabel('Monthly rent in dollars')\n",
    "# ax.set_title('Median rent by county and time in current location')\n",
    "ax.set_xticks(ind + width / 2)\n",
    "ax.set_xticklabels(('Alameda', 'Contra Costa', 'Marin', 'Napa', 'San Francisco', 'San Mateo',\n",
    "                    'Santa Clara', 'Solano', 'Sonoma'))\n",
    "\n",
    "ax.legend((rects1[0], rects2[0]), ('Not a recent mover', 'Recent mover (within 1 year)'))\n",
    "plt.tight_layout()\n",
    "plt.show()"
   ]
  },
  {
   "cell_type": "code",
   "execution_count": 36,
   "metadata": {},
   "outputs": [],
   "source": [
    "fig.savefig('../output/figure-2.pdf')"
   ]
  },
  {
   "cell_type": "code",
   "execution_count": null,
   "metadata": {
    "collapsed": true
   },
   "outputs": [],
   "source": []
  },
  {
   "cell_type": "markdown",
   "metadata": {},
   "source": [
    "## Rent burden"
   ]
  },
  {
   "cell_type": "code",
   "execution_count": 22,
   "metadata": {},
   "outputs": [],
   "source": [
    "pums['rent'] = pums.RNTP\n",
    "pums['income'] = pums.HINCP\n",
    "pums['moved'] = pums.MV.isin([1]).astype(int)"
   ]
  },
  {
   "cell_type": "code",
   "execution_count": 23,
   "metadata": {},
   "outputs": [],
   "source": [
    "pums.loc[pums.income > 0, 'rent_burden'] = (pums.rent * 12) / pums.income"
   ]
  },
  {
   "cell_type": "code",
   "execution_count": 24,
   "metadata": {},
   "outputs": [],
   "source": [
    "movers = pums.loc[(pums.rent > 0) & (pums.moved == 1)]\n",
    "non_movers = pums.loc[(pums.rent > 0) & (pums.moved == 0)]"
   ]
  },
  {
   "cell_type": "code",
   "execution_count": 37,
   "metadata": {},
   "outputs": [
    {
     "data": {
      "image/png": "[encoded data removed]",
      "text/plain": [
       "<matplotlib.figure.Figure at 0x11cc00940>"
      ]
     },
     "metadata": {},
     "output_type": "display_data"
    }
   ],
   "source": [
    "fig, ax = plt.subplots(figsize=(10,5))\n",
    "\n",
    "pums.rent_burden.hist(range=(0,1.2), bins=30, color='grey')\n",
    "\n",
    "# plt.title('Housing cost burden for Bay Area renters')\n",
    "ax.set_xlabel('Portion of income spent on rent')\n",
    "ax.set_ylabel('Portion of households')\n",
    "ax.set_yticklabels('')\n",
    "\n",
    "plt.tight_layout()\n",
    "plt.show()"
   ]
  },
  {
   "cell_type": "code",
   "execution_count": 38,
   "metadata": {},
   "outputs": [],
   "source": [
    "fig.savefig('../output/figure-4.pdf')"
   ]
  },
  {
   "cell_type": "code",
   "execution_count": null,
   "metadata": {
    "collapsed": true
   },
   "outputs": [],
   "source": []
  },
  {
   "cell_type": "code",
   "execution_count": null,
   "metadata": {
    "collapsed": true
   },
   "outputs": [],
   "source": []
  },
  {
   "cell_type": "code",
   "execution_count": null,
   "metadata": {
    "collapsed": true
   },
   "outputs": [],
   "source": []
  }
 ],
 "metadata": {
  "kernelspec": {
   "display_name": "Python 3",
   "language": "python",
   "name": "python3"
  },
  "language_info": {
   "codemirror_mode": {
    "name": "ipython",
    "version": 3
   },
   "file_extension": ".py",
   "mimetype": "text/x-python",
   "name": "python",
   "nbconvert_exporter": "python",
   "pygments_lexer": "ipython3",
   "version": "3.6.3"
  }
 },
 "nbformat": 4,
 "nbformat_minor": 2
}
