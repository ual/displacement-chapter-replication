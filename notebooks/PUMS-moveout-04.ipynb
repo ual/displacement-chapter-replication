{
 "cells": [
  {
   "cell_type": "code",
   "execution_count": null,
   "metadata": {},
   "outputs": [],
   "source": [
    "# Sam Maurer, updated 2-25-2015\n",
    "# Move-out modeling using PUMS data - working code part 4"
   ]
  },
  {
   "cell_type": "code",
   "execution_count": null,
   "metadata": {},
   "outputs": [],
   "source": [
    "''' 2013 ACS 1-years PUMS data\n",
    "\n",
    "PERSON RECORD \n",
    "\n",
    "SERIALNO = household identifier\n",
    "PUMA = area id, first 3 digits of which are county FIPS\n",
    "AGEP = age of individual, from 0 to 99\n",
    "RELP = 00 indicates \"reference person\", other categories indicate relationship to that person \n",
    "PAP = public assistance income, integer\n",
    "MIGPUMA = migration from other PUMA in last 12m\n",
    "MIGSP = migration from state or country in last 12m\n",
    "RAC1P = race code, 1=white, 2=black, 6=asian\n",
    "HISP = hispanic code, 1=not hispanic\n",
    "\n",
    "ALL OTHERS FROM HOUSEHOLD RECORD...\n",
    "\n",
    "TENURE\n",
    "\n",
    "TEN = tenure, 3 = rented, 1 = owned w/ mortgage, 2 = owned free and clear\n",
    "MV = when moved into this unit, 1 = 12m or less  \n",
    "\n",
    "GEOGRAPHY\n",
    "\n",
    "PUMA = PUMA id, first 3 characters of which is the county FIPS code\n",
    "\n",
    "DEMOGRAPHIC CHARACTERISTICS\n",
    "\n",
    "NP = number of persons in household, int  \n",
    "FES = fam type and employment status, categories  \n",
    "FPARC = fam presence and age of related children, categories  \n",
    "HHT = hh type, categories  \n",
    "HUPAC = hh presence and age of childen, 1/2/3 = children present, 1 = under age 6  \n",
    "HHL = hh language, 1 english, 2 spanish, 4 asian languages\n",
    "\n",
    "MONETARY CHARACTERISTICS\n",
    "\n",
    "RNTP = monthly rent, int or blank  \n",
    "GRNTP = gross monthly rent, int or blank  \n",
    "FINCP = fam income past 12m, signed int or blank  \n",
    "GRPIP = gross rent as pct of hh income past 12m, int percent or blank  \n",
    "HINCP = hh income past 12m, signed int or blank  \n",
    "\n",
    "BUILDING CHARACTERISTICS (Paul doesn't like these)\n",
    "\n",
    "BDSP = number of bedrooms, int or blank  \n",
    "BLD = units in structure, categories 1 to 10 or blank  \n",
    "RMSP = number of rooms, int or blank  \n",
    "YBL = year structure first built, int (sometimes rounded to decade) or blank  \n",
    "'''"
   ]
  },
  {
   "cell_type": "code",
   "execution_count": 4,
   "metadata": {},
   "outputs": [],
   "source": [
    "import numpy as np\n",
    "import pandas as pd\n",
    "import statsmodels.api as sm\n",
    "import csv\n",
    "import zipfile"
   ]
  },
  {
   "cell_type": "code",
   "execution_count": 22,
   "metadata": {},
   "outputs": [],
   "source": [
    "# Workaround for statsmodels bug https://github.com/statsmodels/statsmodels/issues/3931\n",
    "from scipy import stats\n",
    "stats.chisqprob = lambda chisq, df: stats.chi2.sf(chisq, df)"
   ]
  },
  {
   "cell_type": "code",
   "execution_count": 2,
   "metadata": {},
   "outputs": [],
   "source": [
    "bayarea_fips = [1,13,41,55,75,81,85,95,97]"
   ]
  },
  {
   "cell_type": "code",
   "execution_count": 9,
   "metadata": {},
   "outputs": [
    {
     "name": "stdout",
     "output_type": "stream",
     "text": [
      "31068\n"
     ]
    }
   ],
   "source": [
    "# Load household records for Bay Area\n",
    "\n",
    "h = []\n",
    "path = '/Users/smmaurer/Dropbox/Data/ACS PUMS/ss13hca.csv'\n",
    "f = csv.DictReader(open(path))\n",
    "\n",
    "for row in f:\n",
    "    county = int(row['PUMA'][:3])\n",
    "    if county in bayarea_fips:\n",
    "        h.append(row)\n",
    "        \n",
    "print(len(h))"
   ]
  },
  {
   "cell_type": "code",
   "execution_count": 11,
   "metadata": {},
   "outputs": [
    {
     "name": "stdout",
     "output_type": "stream",
     "text": [
      "27340\n"
     ]
    }
   ],
   "source": [
    "# Load person records - for heads of household only (aka \"reference persons\")\n",
    "\n",
    "p = []\n",
    "path = '/Users/smmaurer/Dropbox/Data/ACS PUMS/ss13pca.csv'\n",
    "f = csv.DictReader(open(path))\n",
    "\n",
    "for row in f:\n",
    "    county = int(row['PUMA'][:3])\n",
    "    householder = (int(row['RELP']) == 0)\n",
    "    if county in bayarea_fips and householder:\n",
    "        p.append(row)\n",
    "        \n",
    "print(len(p))"
   ]
  },
  {
   "cell_type": "code",
   "execution_count": 12,
   "metadata": {},
   "outputs": [
    {
     "name": "stdout",
     "output_type": "stream",
     "text": [
      "                  0\n",
      "count  31068.000000\n",
      "mean       0.880005\n",
      "std        0.324961\n",
      "min        0.000000\n",
      "25%        1.000000\n",
      "50%        1.000000\n",
      "75%        1.000000\n",
      "max        1.000000\n"
     ]
    }
   ],
   "source": [
    "# Check how the tables are linked - how many \"heads\" does each household have?\n",
    "\n",
    "h_serials = np.array([r['SERIALNO'] for r in h])\n",
    "p_serials = np.array([r['SERIALNO'] for r in p])\n",
    "head_counts = []\n",
    "\n",
    "for s in np.unique(h_serials):\n",
    "    head_counts.append(np.sum(p_serials==s))\n",
    "\n",
    "print(pd.DataFrame(head_counts).describe())\n",
    "\n",
    "# --> households have zero (12%) or one (88%) head each"
   ]
  },
  {
   "cell_type": "code",
   "execution_count": 14,
   "metadata": {},
   "outputs": [
    {
     "name": "stdout",
     "output_type": "stream",
     "text": [
      "   Burden CFIPS  Child HhType    Income  Moved  Owner   PUMA  Persons   Rent  \\\n",
      "0     NaN   085      0      3   16000.0      0      1  08503        2    NaN   \n",
      "1   101.0   001      0      1    9400.0      0      0  00102        2  770.0   \n",
      "2     NaN   085      0      5  193500.0      0      1  08501        2    NaN   \n",
      "3     NaN   055      1      1  224000.0      0      1  05500        4    NaN   \n",
      "4   101.0   013      1      1    8400.0      0      0  01307        4  750.0   \n",
      "\n",
      "   Renter  SanFran Serial  YoungChld  \n",
      "0       0        0     16          0  \n",
      "1       1        0     53          0  \n",
      "2       0        0    141          0  \n",
      "3       0        0    189          0  \n",
      "4       1        0    220          0  \n",
      "             Income          Rent        Burden       Persons\n",
      "count  2.734000e+04  10443.000000  10014.000000  31068.000000\n",
      "mean   1.162970e+05   1465.893326     38.996804      2.368997\n",
      "std    1.167668e+05    725.294564     27.373558      1.567546\n",
      "min   -1.110000e+04      4.000000      1.000000      0.000000\n",
      "25%    4.000000e+04    980.000000     20.000000      1.000000\n",
      "50%    8.370000e+04   1400.000000     30.000000      2.000000\n",
      "75%    1.500000e+05   1900.000000     49.000000      3.000000\n",
      "max    1.307000e+06   3600.000000    101.000000     20.000000\n",
      "             Renter         Owner        Moved     YoungChld       SanFran\n",
      "count  31068.000000  31068.000000  31068.00000  31068.000000  31068.000000\n",
      "mean       0.327282      0.541425      0.10918      0.067529      0.120349\n",
      "std        0.469229      0.498289      0.31187      0.250940      0.325374\n",
      "min        0.000000      0.000000      0.00000      0.000000      0.000000\n",
      "25%        0.000000      0.000000      0.00000      0.000000      0.000000\n",
      "50%        0.000000      1.000000      0.00000      0.000000      0.000000\n",
      "75%        1.000000      1.000000      0.00000      0.000000      0.000000\n",
      "max        1.000000      1.000000      1.00000      1.000000      1.000000\n",
      "         Serial   PUMA  CFIPS\n",
      "count     31068  31068  31068\n",
      "unique    31068     55      9\n",
      "top     1238774  08501    085\n",
      "freq          1   1072   7348\n"
     ]
    }
   ],
   "source": [
    "# Set up household variables in a dataframe for regressions\n",
    "\n",
    "def to_np_int(name):\n",
    "    return np.array([int(r[name]) if r[name]!='' else np.nan for r in h])\n",
    "    \n",
    "df = pd.DataFrame({\n",
    "        'Serial':  np.array([r['SERIALNO'] for r in h]),\n",
    "        'Renter':  np.array([1*(r['TEN']=='3') for r in h]),\n",
    "        'Owner':   np.array([1*(r['TEN'] in ('1','2')) for r in h]),\n",
    "        'Moved':   np.array([1*(r['MV']=='1') for r in h]),\n",
    "        'Income':  to_np_int('HINCP'),\n",
    "        'Rent':    to_np_int('RNTP'),\n",
    "        'Burden':  to_np_int('GRPIP'),\n",
    "        'Persons': to_np_int('NP'),\n",
    "        'HhType':  np.array([r['HHT'] for r in h]),\n",
    "        'Child':   np.array([1*(r['HUPAC'] in ('1','2','3')) for r in h]),\n",
    "        'YoungChld': np.array([1*(r['HUPAC']=='1') for r in h]),\n",
    "        'PUMA':    np.array([r['PUMA'] for r in h]),\n",
    "        'CFIPS':   np.array([r['PUMA'][:3] for r in h]),\n",
    "        'SanFran': np.array([1*(r['PUMA'][:3]=='075') for r in h])})\n",
    "\n",
    "print(df.head())\n",
    "print(df[['Income','Rent','Burden','Persons']].describe())  # continuous\n",
    "print(df[['Renter','Owner','Moved','YoungChld','SanFran']].describe())  # binary\n",
    "print(df[['Serial','PUMA','CFIPS']].describe())  # categorical"
   ]
  },
  {
   "cell_type": "code",
   "execution_count": 15,
   "metadata": {},
   "outputs": [
    {
     "name": "stdout",
     "output_type": "stream",
     "text": [
      "                Age        Assist    Assist_dum         White          Hisp  \\\n",
      "count  27340.000000  27340.000000  27340.000000  27340.000000  27340.000000   \n",
      "mean      52.689612     60.122531      0.013460      0.544257      0.138552   \n",
      "std       16.583103    726.921536      0.115236      0.498047      0.345484   \n",
      "min       15.000000      0.000000      0.000000      0.000000      0.000000   \n",
      "25%       40.000000      0.000000      0.000000      0.000000      0.000000   \n",
      "50%       52.000000      0.000000      0.000000      1.000000      0.000000   \n",
      "75%       64.000000      0.000000      0.000000      1.000000      0.000000   \n",
      "max       94.000000  30000.000000      1.000000      1.000000      1.000000   \n",
      "\n",
      "              Black         Asian  \n",
      "count  27340.000000  27340.000000  \n",
      "mean       0.058778      0.226957  \n",
      "std        0.235214      0.418872  \n",
      "min        0.000000      0.000000  \n",
      "25%        0.000000      0.000000  \n",
      "50%        0.000000      0.000000  \n",
      "75%        0.000000      0.000000  \n",
      "max        1.000000      1.000000  \n"
     ]
    }
   ],
   "source": [
    "# Merge person variables into the households dataframe\n",
    "# - can you do SQL-style joins on dataframes? would scale better than this code\n",
    "\n",
    "h_serials = df['Serial']\n",
    "p_serials = np.array([r['SERIALNO'] for r in p])\n",
    "\n",
    "def person_to_household(person_array):\n",
    "    out = []\n",
    "    for s in h_serials:\n",
    "        try:\n",
    "            tmp = person_array[p_serials==s][0]  # should be exactly one match, or none\n",
    "        except:\n",
    "            tmp = np.NaN\n",
    "        out.append(tmp)\n",
    "    return out\n",
    "\n",
    "p_age = np.array([int(r['AGEP']) for r in p])\n",
    "p_assist = np.array([int(r['PAP']) for r in p])\n",
    "p_assist_dum = np.array([1*(int(r['PAP']) > 0) for r in p])\n",
    "p_white = np.array([1*(r['RAC1P']=='1')*(r['HISP']=='01') for r in p])\n",
    "p_hisp = np.array([1*(r['HISP']!='01') for r in p])\n",
    "p_black = np.array([1*(r['RAC1P']=='2') for r in p])\n",
    "p_asian = np.array([1*(r['RAC1P']=='6') for r in p])\n",
    "\n",
    "df['Age'] = person_to_household(p_age)\n",
    "df['Assist'] = person_to_household(p_assist)\n",
    "df['Assist_dum'] = person_to_household(p_assist_dum)\n",
    "df['White'] = person_to_household(p_white)\n",
    "df['Hisp'] = person_to_household(p_hisp)\n",
    "df['Black'] = person_to_household(p_black)\n",
    "df['Asian'] = person_to_household(p_asian)\n",
    "\n",
    "print(df[['Age','Assist','Assist_dum','White','Hisp','Black','Asian']].describe())"
   ]
  },
  {
   "cell_type": "code",
   "execution_count": null,
   "metadata": {},
   "outputs": [],
   "source": []
  },
  {
   "cell_type": "code",
   "execution_count": 16,
   "metadata": {},
   "outputs": [
    {
     "name": "stdout",
     "output_type": "stream",
     "text": [
      "             Income      Income_k     Ln_Income        Assist      Assist_k\n",
      "count  2.734000e+04  27340.000000  27081.000000  27340.000000  27340.000000\n",
      "mean   1.162970e+05    116.297048     11.214225     60.122531      0.060123\n",
      "std    1.167668e+05    116.766801      1.088303    726.921536      0.726922\n",
      "min   -1.110000e+04    -11.100000      0.000000      0.000000      0.000000\n",
      "25%    4.000000e+04     40.000000     10.627649      0.000000      0.000000\n",
      "50%    8.370000e+04     83.700000     11.348051      0.000000      0.000000\n",
      "75%    1.500000e+05    150.000000     11.918391      0.000000      0.000000\n",
      "max    1.307000e+06   1307.000000     14.083245  30000.000000     30.000000\n"
     ]
    }
   ],
   "source": [
    "# Clean up the income fields\n",
    "\n",
    "# rescale to $1000's for easier interpretation\n",
    "df['Income_k'] = df['Income']/1000\n",
    "df['Assist_k'] = df['Assist']/1000\n",
    "\n",
    "# try a log-income term - need to ignore negative income values\n",
    "df['Ln_Income'] = np.log(df['Income'].apply(lambda x: np.nan if (x < 1) else x))\n",
    "\n",
    "print(df[['Income','Income_k','Ln_Income','Assist','Assist_k']].describe())\n",
    "\n",
    "# --> turns out raw income fits better than log income in the models"
   ]
  },
  {
   "cell_type": "code",
   "execution_count": 34,
   "metadata": {},
   "outputs": [
    {
     "name": "stdout",
     "output_type": "stream",
     "text": [
      "MOVE-CHOICE MODEL FOR RENTERS \n",
      "\n",
      "Optimization terminated successfully.\n",
      "         Current function value: 0.513863\n",
      "         Iterations 6\n",
      "                           Logit Regression Results                           \n",
      "==============================================================================\n",
      "Dep. Variable:                  Moved   No. Observations:                10168\n",
      "Model:                          Logit   Df Residuals:                    10162\n",
      "Method:                           MLE   Df Model:                            5\n",
      "Date:                Wed, 25 Feb 2015   Pseudo R-squ.:                 0.07668\n",
      "Time:                        22:49:45   Log-Likelihood:                -5225.0\n",
      "converged:                       True   LL-Null:                       -5658.9\n",
      "                                        LLR p-value:                2.467e-185\n",
      "==============================================================================\n",
      "                 coef    std err          z      P>|z|      [95.0% Conf. Int.]\n",
      "------------------------------------------------------------------------------\n",
      "Intercept      1.1906      0.096     12.391      0.000         1.002     1.379\n",
      "Income_k       0.0011      0.000      4.018      0.000         0.001     0.002\n",
      "Age           -0.0432      0.002    -24.187      0.000        -0.047    -0.040\n",
      "Persons       -0.1927      0.018    -10.597      0.000        -0.228    -0.157\n",
      "YoungChld      0.1973      0.079      2.510      0.012         0.043     0.351\n",
      "SanFran       -0.7237      0.070    -10.407      0.000        -0.860    -0.587\n",
      "==============================================================================\n"
     ]
    }
   ],
   "source": [
    "# Basic regression for RENTERS\n",
    "\n",
    "print 'MOVE-CHOICE MODEL FOR RENTERS \\n'\n",
    "data = df[df['Renter']==1]\n",
    "res = sm.Logit.from_formula('Moved ~ Income_k + Age + Persons + YoungChld + SanFran', data).fit()\n",
    "print res.summary()"
   ]
  },
  {
   "cell_type": "code",
   "execution_count": 35,
   "metadata": {},
   "outputs": [
    {
     "name": "stdout",
     "output_type": "stream",
     "text": [
      "MOVE-CHOICE MODEL FOR OWNERS \n",
      "\n",
      "Optimization terminated successfully.\n",
      "         Current function value: 0.180713\n",
      "         Iterations 8\n",
      "                           Logit Regression Results                           \n",
      "==============================================================================\n",
      "Dep. Variable:                  Moved   No. Observations:                16821\n",
      "Model:                          Logit   Df Residuals:                    16815\n",
      "Method:                           MLE   Df Model:                            5\n",
      "Date:                Wed, 25 Feb 2015   Pseudo R-squ.:                  0.1053\n",
      "Time:                        22:50:37   Log-Likelihood:                -3039.8\n",
      "converged:                       True   LL-Null:                       -3397.7\n",
      "                                        LLR p-value:                1.796e-152\n",
      "==============================================================================\n",
      "                 coef    std err          z      P>|z|      [95.0% Conf. Int.]\n",
      "------------------------------------------------------------------------------\n",
      "Intercept      1.0310      0.177      5.830      0.000         0.684     1.378\n",
      "Income_k       0.0009      0.000      3.350      0.001         0.000     0.001\n",
      "Age           -0.0686      0.003    -22.929      0.000        -0.074    -0.063\n",
      "Persons       -0.2241      0.029     -7.861      0.000        -0.280    -0.168\n",
      "YoungChld      0.2900      0.108      2.678      0.007         0.078     0.502\n",
      "SanFran       -0.0498      0.130     -0.382      0.702        -0.305     0.206\n",
      "==============================================================================\n"
     ]
    }
   ],
   "source": [
    "# Same basic regression for OWNERS\n",
    "# -> need to add a cost burden\n",
    "\n",
    "print 'MOVE-CHOICE MODEL FOR OWNERS \\n'\n",
    "data = df[df['Owner']==1]\n",
    "res = sm.Logit.from_formula('Moved ~ Income_k + Age + Persons + YoungChld + SanFran', data).fit()\n",
    "print res.summary()"
   ]
  },
  {
   "cell_type": "code",
   "execution_count": 74,
   "metadata": {},
   "outputs": [],
   "source": []
  },
  {
   "cell_type": "code",
   "execution_count": 17,
   "metadata": {},
   "outputs": [
    {
     "name": "stdout",
     "output_type": "stream",
     "text": [
      "Burden_10k + Burden_20k + Burden_40k + Burden_60k + Burden_80k + Burden_100k + Burden_120k + Burden_150k + Burden_200k + Burden_300k + Burden_Top\n"
     ]
    }
   ],
   "source": [
    "# Stratify rent burden by income buckets (copied from prior notebook)\n",
    "\n",
    "breaks = [0, 10, 20, 40, 60, 80, 100, 120, 150, 200, 300]\n",
    "\n",
    "for i in range(len(breaks)-1):\n",
    "    name = 'Burden_' + str(breaks[i+1]) + 'k'\n",
    "    df[name] = df['Burden'] * ((df['Income']<=1000*breaks[i+1]) & (df['Income']>1000*breaks[i]))    \n",
    "df['Burden_Top'] = df['Burden'] * (df['Income']>1000*breaks[-1])\n",
    "\n",
    "varlist = ' + '.join(['Burden_' + str(n) + 'k' for n in breaks[1:]]) + ' + Burden_Top'\n",
    "print(varlist)"
   ]
  },
  {
   "cell_type": "code",
   "execution_count": 37,
   "metadata": {},
   "outputs": [
    {
     "name": "stdout",
     "output_type": "stream",
     "text": [
      "MOVE-CHOICE MODEL FOR RENTERS \n",
      "\n",
      "Optimization terminated successfully.\n",
      "         Current function value: 0.501635\n",
      "         Iterations 6\n",
      "                           Logit Regression Results                           \n",
      "==============================================================================\n",
      "Dep. Variable:                  Moved   No. Observations:                10014\n",
      "Model:                          Logit   Df Residuals:                     9997\n",
      "Method:                           MLE   Df Model:                           16\n",
      "Date:                Wed, 25 Feb 2015   Pseudo R-squ.:                 0.09639\n",
      "Time:                        22:50:46   Log-Likelihood:                -5023.4\n",
      "converged:                       True   LL-Null:                       -5559.2\n",
      "                                        LLR p-value:                4.748e-218\n",
      "===============================================================================\n",
      "                  coef    std err          z      P>|z|      [95.0% Conf. Int.]\n",
      "-------------------------------------------------------------------------------\n",
      "Intercept       0.3246      0.130      2.494      0.013         0.070     0.580\n",
      "Burden_10k      0.0121      0.001      8.750      0.000         0.009     0.015\n",
      "Burden_20k      0.0114      0.001      7.697      0.000         0.008     0.014\n",
      "Burden_40k      0.0175      0.002      9.859      0.000         0.014     0.021\n",
      "Burden_60k      0.0256      0.003      9.625      0.000         0.020     0.031\n",
      "Burden_80k      0.0380      0.003     11.231      0.000         0.031     0.045\n",
      "Burden_100k     0.0435      0.004     10.423      0.000         0.035     0.052\n",
      "Burden_120k     0.0574      0.005     11.354      0.000         0.047     0.067\n",
      "Burden_150k     0.0590      0.006      9.768      0.000         0.047     0.071\n",
      "Burden_200k     0.0813      0.008     10.827      0.000         0.067     0.096\n",
      "Burden_300k     0.0986      0.012      8.457      0.000         0.076     0.121\n",
      "Burden_Top      0.1593      0.029      5.530      0.000         0.103     0.216\n",
      "Income_k        0.0004      0.001      0.576      0.564        -0.001     0.002\n",
      "Age            -0.0427      0.002    -23.162      0.000        -0.046    -0.039\n",
      "Persons        -0.2440      0.019    -12.605      0.000        -0.282    -0.206\n",
      "YoungChld       0.2043      0.080      2.541      0.011         0.047     0.362\n",
      "SanFran        -0.8295      0.073    -11.436      0.000        -0.972    -0.687\n",
      "===============================================================================\n"
     ]
    }
   ],
   "source": [
    "# Add burdens to the renter model\n",
    "\n",
    "print 'MOVE-CHOICE MODEL FOR RENTERS \\n'\n",
    "data = df[df['Renter']==1]\n",
    "res = sm.Logit.from_formula('Moved ~ ' + varlist + ' + Income_k + Age + Persons + YoungChld + SanFran', data).fit()\n",
    "print res.summary()"
   ]
  },
  {
   "cell_type": "code",
   "execution_count": 20,
   "metadata": {},
   "outputs": [],
   "source": []
  },
  {
   "cell_type": "code",
   "execution_count": 26,
   "metadata": {},
   "outputs": [
    {
     "name": "stdout",
     "output_type": "stream",
     "text": [
      "MOVE-CHOICE MODEL FOR RENTERS \n",
      "\n",
      "Optimization terminated successfully.\n",
      "         Current function value: 0.501236\n",
      "         Iterations 6\n",
      "                           Logit Regression Results                           \n",
      "==============================================================================\n",
      "Dep. Variable:                  Moved   No. Observations:                10014\n",
      "Model:                          Logit   Df Residuals:                     9994\n",
      "Method:                           MLE   Df Model:                           19\n",
      "Date:                Tue, 26 Dec 2017   Pseudo R-squ.:                 0.09711\n",
      "Time:                        22:06:31   Log-Likelihood:                -5019.4\n",
      "converged:                       True   LL-Null:                       -5559.2\n",
      "                                        LLR p-value:                4.922e-217\n",
      "===============================================================================\n",
      "                  coef    std err          z      P>|z|      [0.025      0.975]\n",
      "-------------------------------------------------------------------------------\n",
      "Intercept       0.3143      0.133      2.356      0.018       0.053       0.576\n",
      "Burden_10k      0.0121      0.001      8.704      0.000       0.009       0.015\n",
      "Burden_20k      0.0114      0.001      7.683      0.000       0.008       0.014\n",
      "Burden_40k      0.0176      0.002      9.879      0.000       0.014       0.021\n",
      "Burden_60k      0.0257      0.003      9.612      0.000       0.020       0.031\n",
      "Burden_80k      0.0380      0.003     11.123      0.000       0.031       0.045\n",
      "Burden_100k     0.0432      0.004     10.271      0.000       0.035       0.051\n",
      "Burden_120k     0.0567      0.005     11.080      0.000       0.047       0.067\n",
      "Burden_150k     0.0583      0.006      9.559      0.000       0.046       0.070\n",
      "Burden_200k     0.0803      0.008     10.582      0.000       0.065       0.095\n",
      "Burden_300k     0.0976      0.012      8.320      0.000       0.075       0.121\n",
      "Burden_Top      0.1605      0.029      5.546      0.000       0.104       0.217\n",
      "Income_k        0.0003      0.001      0.453      0.651      -0.001       0.002\n",
      "Age            -0.0428      0.002    -23.154      0.000      -0.046      -0.039\n",
      "Persons        -0.2383      0.020    -11.762      0.000      -0.278      -0.199\n",
      "YoungChld       0.1947      0.081      2.418      0.016       0.037       0.352\n",
      "Hisp           -0.0922      0.072     -1.288      0.198      -0.233       0.048\n",
      "Black           0.0319      0.094      0.339      0.734      -0.152       0.216\n",
      "Asian           0.1318      0.064      2.057      0.040       0.006       0.257\n",
      "SanFran        -0.8311      0.073    -11.461      0.000      -0.973      -0.689\n",
      "===============================================================================\n"
     ]
    }
   ],
   "source": [
    "# Add race\n",
    "\n",
    "print('MOVE-CHOICE MODEL FOR RENTERS \\n')\n",
    "data = df[df['Renter']==1]\n",
    "res = sm.Logit.from_formula('Moved ~ ' + varlist + \n",
    "        ' + Income_k + Age + Persons + YoungChld + Hisp + Black + Asian + SanFran', data).fit()\n",
    "print(res.summary())"
   ]
  },
  {
   "cell_type": "code",
   "execution_count": 32,
   "metadata": {},
   "outputs": [
    {
     "name": "stdout",
     "output_type": "stream",
     "text": [
      "Intercept      0.314269\n",
      "Burden_10k     0.012099\n",
      "Burden_20k     0.011375\n",
      "Burden_40k     0.017591\n",
      "Burden_60k     0.025731\n",
      "Burden_80k     0.037964\n",
      "Burden_100k    0.043239\n",
      "Burden_120k    0.056657\n",
      "Burden_150k    0.058295\n",
      "Burden_200k    0.080323\n",
      "Burden_300k    0.097642\n",
      "Burden_Top     0.160532\n",
      "Income_k       0.000296\n",
      "Age           -0.042841\n",
      "Persons       -0.238327\n",
      "YoungChld      0.194651\n",
      "Hisp          -0.092235\n",
      "Black          0.031934\n",
      "Asian          0.131773\n",
      "SanFran       -0.831111\n",
      "dtype: float64\n"
     ]
    }
   ],
   "source": [
    "print(res.params)"
   ]
  },
  {
   "cell_type": "code",
   "execution_count": 54,
   "metadata": {},
   "outputs": [
    {
     "name": "stdout",
     "output_type": "stream",
     "text": [
      "   Burden  CFIPS  Child  HhType   Income  Moved  Owner    PUMA  Persons  \\\n",
      "0    30.0   75.0    0.0     3.0  55200.0    0.0    0.0  7503.0      2.0   \n",
      "1    30.0   75.0    0.0     3.0  55200.0    0.0    0.0  7503.0      2.0   \n",
      "\n",
      "     Rent     ...      Burden_20k  Burden_40k  Burden_60k  Burden_80k  \\\n",
      "0  1400.0     ...             0.0         0.0        40.0         0.0   \n",
      "1  1400.0     ...             0.0         0.0        20.0         0.0   \n",
      "\n",
      "   Burden_100k  Burden_120k  Burden_150k  Burden_200k  Burden_300k  Burden_Top  \n",
      "0          0.0          0.0          0.0          0.0          0.0         0.0  \n",
      "1          0.0          0.0          0.0          0.0          0.0         0.0  \n",
      "\n",
      "[2 rows x 35 columns]\n"
     ]
    }
   ],
   "source": [
    "# What's the effective magnitude of the coefficient estimates?\n",
    "hh1, hh2 = data.median(), data.median()\n",
    "hh1.Burden_60k = 40\n",
    "hh2.Burden_60k = 20\n",
    "test = pd.concat([hh1,hh2], axis=1).transpose()\n",
    "print(test)"
   ]
  },
  {
   "cell_type": "code",
   "execution_count": 55,
   "metadata": {},
   "outputs": [
    {
     "data": {
      "text/plain": [
       "0    0.285743\n",
       "1    0.192980\n",
       "dtype: float64"
      ]
     },
     "execution_count": 55,
     "metadata": {},
     "output_type": "execute_result"
    }
   ],
   "source": [
    "res.predict(test)"
   ]
  },
  {
   "cell_type": "code",
   "execution_count": null,
   "metadata": {},
   "outputs": [],
   "source": []
  },
  {
   "cell_type": "code",
   "execution_count": 50,
   "metadata": {},
   "outputs": [
    {
     "name": "stdout",
     "output_type": "stream",
     "text": [
      "MOVE-CHOICE MODEL FOR RENTERS \n",
      "\n",
      "Optimization terminated successfully.\n",
      "         Current function value: 0.501232\n",
      "         Iterations 6\n",
      "                           Logit Regression Results                           \n",
      "==============================================================================\n",
      "Dep. Variable:                  Moved   No. Observations:                10014\n",
      "Model:                          Logit   Df Residuals:                     9993\n",
      "Method:                           MLE   Df Model:                           20\n",
      "Date:                Wed, 25 Feb 2015   Pseudo R-squ.:                 0.09712\n",
      "Time:                        23:27:33   Log-Likelihood:                -5019.3\n",
      "converged:                       True   LL-Null:                       -5559.2\n",
      "                                        LLR p-value:                3.611e-216\n",
      "===============================================================================\n",
      "                  coef    std err          z      P>|z|      [95.0% Conf. Int.]\n",
      "-------------------------------------------------------------------------------\n",
      "Intercept       0.3159      0.134      2.365      0.018         0.054     0.578\n",
      "Burden_10k      0.0121      0.001      8.707      0.000         0.009     0.015\n",
      "Burden_20k      0.0114      0.001      7.679      0.000         0.008     0.014\n",
      "Burden_40k      0.0176      0.002      9.873      0.000         0.014     0.021\n",
      "Burden_60k      0.0257      0.003      9.593      0.000         0.020     0.031\n",
      "Burden_80k      0.0379      0.003     11.099      0.000         0.031     0.045\n",
      "Burden_100k     0.0432      0.004     10.253      0.000         0.035     0.051\n",
      "Burden_120k     0.0566      0.005     11.064      0.000         0.047     0.067\n",
      "Burden_150k     0.0582      0.006      9.545      0.000         0.046     0.070\n",
      "Burden_200k     0.0803      0.008     10.575      0.000         0.065     0.095\n",
      "Burden_300k     0.0976      0.012      8.317      0.000         0.075     0.121\n",
      "Burden_Top      0.1607      0.029      5.553      0.000         0.104     0.217\n",
      "Income_k        0.0003      0.001      0.442      0.659        -0.001     0.002\n",
      "Age            -0.0429      0.002    -23.155      0.000        -0.046    -0.039\n",
      "Persons        -0.2380      0.020    -11.727      0.000        -0.278    -0.198\n",
      "YoungChld       0.1953      0.081      2.424      0.015         0.037     0.353\n",
      "Hisp           -0.0927      0.072     -1.294      0.196        -0.233     0.048\n",
      "Black           0.0337      0.094      0.357      0.721        -0.151     0.218\n",
      "Asian           0.1312      0.064      2.047      0.041         0.006     0.257\n",
      "Assist_k       -0.0087      0.030     -0.288      0.774        -0.068     0.051\n",
      "SanFran        -0.8309      0.073    -11.458      0.000        -0.973    -0.689\n",
      "===============================================================================\n"
     ]
    }
   ],
   "source": [
    "# Add public assistance\n",
    "\n",
    "print 'MOVE-CHOICE MODEL FOR RENTERS \\n'\n",
    "data = df[df['Renter']==1]\n",
    "res = sm.Logit.from_formula('Moved ~ ' + varlist + \n",
    "        ' + Income_k + Age + Persons + YoungChld + Hisp + Black + Asian' + \n",
    "        ' + Assist_k + SanFran', data).fit()\n",
    "print res.summary()"
   ]
  },
  {
   "cell_type": "code",
   "execution_count": 76,
   "metadata": {},
   "outputs": [],
   "source": []
  },
  {
   "cell_type": "code",
   "execution_count": 76,
   "metadata": {},
   "outputs": [],
   "source": []
  },
  {
   "cell_type": "code",
   "execution_count": 76,
   "metadata": {},
   "outputs": [],
   "source": []
  },
  {
   "cell_type": "code",
   "execution_count": null,
   "metadata": {},
   "outputs": [],
   "source": []
  }
 ],
 "metadata": {
  "kernelspec": {
   "display_name": "Python 3",
   "language": "python",
   "name": "python3"
  },
  "language_info": {
   "codemirror_mode": {
    "name": "ipython",
    "version": 3
   },
   "file_extension": ".py",
   "mimetype": "text/x-python",
   "name": "python",
   "nbconvert_exporter": "python",
   "pygments_lexer": "ipython3",
   "version": "3.6.3"
  }
 },
 "nbformat": 4,
 "nbformat_minor": 1
}
