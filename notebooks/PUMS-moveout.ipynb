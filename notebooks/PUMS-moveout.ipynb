{
 "cells": [
  {
   "cell_type": "markdown",
   "metadata": {},
   "source": [
    "# Replication notebook for displacement book chapter\n",
    "\n",
    "Sam Maurer, August 2017, Python 3.6"
   ]
  },
  {
   "cell_type": "code",
   "execution_count": 20,
   "metadata": {
    "collapsed": false
   },
   "outputs": [
    {
     "name": "stderr",
     "output_type": "stream",
     "text": [
      "/Users/maurer/anaconda/lib/python3.6/site-packages/statsmodels/compat/pandas.py:56: FutureWarning: The pandas.core.datetools module is deprecated and will be removed in a future version. Please use the pandas.tseries module instead.\n",
      "  from pandas.core import datetools\n"
     ]
    }
   ],
   "source": [
    "import pandas as pd\n",
    "import statsmodels.api as sm\n",
    "import zipfile"
   ]
  },
  {
   "cell_type": "code",
   "execution_count": 2,
   "metadata": {
    "collapsed": true
   },
   "outputs": [],
   "source": [
    "# Load PUMS households table\n",
    "z = zipfile.ZipFile('../data/csv_hca_2013_1yr.zip')\n",
    "pums = pd.read_csv(z.open('ss13hca.csv'), low_memory=False)"
   ]
  },
  {
   "cell_type": "code",
   "execution_count": 15,
   "metadata": {
    "collapsed": false
   },
   "outputs": [
    {
     "name": "stdout",
     "output_type": "stream",
     "text": [
      "31068\n"
     ]
    }
   ],
   "source": [
    "print(len(pums))"
   ]
  },
  {
   "cell_type": "code",
   "execution_count": 11,
   "metadata": {
    "collapsed": false
   },
   "outputs": [
    {
     "name": "stdout",
     "output_type": "stream",
     "text": [
      "31068\n"
     ]
    }
   ],
   "source": [
    "# Limit to Bay Area counties\n",
    "\n",
    "pums = pums.loc[(pums.PUMA//100).isin([1,13,41,55,75,81,85,95,97])]\n",
    "print(len(pums))"
   ]
  },
  {
   "cell_type": "code",
   "execution_count": 27,
   "metadata": {
    "collapsed": true
   },
   "outputs": [],
   "source": [
    "# Load persons table\n",
    "z = zipfile.ZipFile('../data/csv_pca_2013_1yr.zip')\n",
    "persons = pd.read_csv(z.open('ss13pca.csv'), low_memory=False)"
   ]
  },
  {
   "cell_type": "code",
   "execution_count": 28,
   "metadata": {
    "collapsed": false
   },
   "outputs": [
    {
     "name": "stdout",
     "output_type": "stream",
     "text": [
      "371403\n"
     ]
    }
   ],
   "source": [
    "print(len(persons))"
   ]
  },
  {
   "cell_type": "code",
   "execution_count": 30,
   "metadata": {
    "collapsed": false
   },
   "outputs": [
    {
     "name": "stdout",
     "output_type": "stream",
     "text": [
      "130145\n"
     ]
    }
   ],
   "source": [
    "# Keep householders and relevant colums\n",
    "persons = persons.loc[persons.RELP.isin([0]), ['SERIALNO','AGEP']]\n",
    "print(len(persons))"
   ]
  },
  {
   "cell_type": "code",
   "execution_count": 31,
   "metadata": {
    "collapsed": false
   },
   "outputs": [
    {
     "name": "stdout",
     "output_type": "stream",
     "text": [
      "31068\n"
     ]
    }
   ],
   "source": [
    "# Merged with other table\n",
    "pums = pd.merge(pums, persons, how='left', on='SERIALNO')\n",
    "print(len(pums))"
   ]
  },
  {
   "cell_type": "code",
   "execution_count": 13,
   "metadata": {
    "collapsed": false
   },
   "outputs": [
    {
     "name": "stdout",
     "output_type": "stream",
     "text": [
      "1.0    11974\n",
      "3.0    10168\n",
      "2.0     4847\n",
      "4.0      351\n",
      "Name: TEN, dtype: int64\n"
     ]
    }
   ],
   "source": [
    "# TEN = Tenure\n",
    "# 1 - owned with mortgage loan\n",
    "# 2 - owned free and clear\n",
    "# 3 - rented\n",
    "# 4 - occupied without payment of rent\n",
    "\n",
    "print(pums.TEN.value_counts())"
   ]
  },
  {
   "cell_type": "code",
   "execution_count": 14,
   "metadata": {
    "collapsed": false
   },
   "outputs": [
    {
     "name": "stdout",
     "output_type": "stream",
     "text": [
      "3.0    6602\n",
      "4.0    5891\n",
      "5.0    5627\n",
      "7.0    3529\n",
      "1.0    3392\n",
      "6.0    3199\n",
      "2.0    1851\n",
      "Name: MV, dtype: int64\n"
     ]
    }
   ],
   "source": [
    "# MV = When moved into this house or apartment\n",
    "# 1 - 12 months or less\n",
    "\n",
    "print(pums.MV.value_counts())"
   ]
  },
  {
   "cell_type": "code",
   "execution_count": 17,
   "metadata": {
    "collapsed": false
   },
   "outputs": [
    {
     "name": "stdout",
     "output_type": "stream",
     "text": [
      "2489\n",
      "861\n"
     ]
    }
   ],
   "source": [
    "print(len(pums.loc[pums.MV.isin([1]) & pums.TEN.isin([3])]))  # recent movers who rent\n",
    "print(len(pums.loc[pums.MV.isin([1]) & pums.TEN.isin([1,2])]))  # recent movers who own"
   ]
  },
  {
   "cell_type": "code",
   "execution_count": null,
   "metadata": {
    "collapsed": true
   },
   "outputs": [],
   "source": []
  },
  {
   "cell_type": "code",
   "execution_count": 32,
   "metadata": {
    "collapsed": false
   },
   "outputs": [
    {
     "name": "stdout",
     "output_type": "stream",
     "text": [
      "   moved  renter   age  income  persons\n",
      "0      0       0  45.0    16.0        2\n",
      "1      0       1  64.0     9.4        2\n",
      "2      0       0  73.0   193.5        2\n",
      "3      0       0  44.0   224.0        4\n",
      "4      0       1  32.0     8.4        4\n"
     ]
    }
   ],
   "source": [
    "# Variables for regression\n",
    "\n",
    "pums['moved'] = pums.MV.isin([1]).astype(int)\n",
    "pums['renter'] = pums.TEN.isin([3]).astype(int)\n",
    "pums['age'] = pums.AGEP\n",
    "pums['income'] = pums.HINCP / 1000\n",
    "pums['persons'] = pums.NP\n",
    "\n",
    "print(pums.loc[:,['moved','renter','age','income','persons']].head())"
   ]
  },
  {
   "cell_type": "code",
   "execution_count": 34,
   "metadata": {
    "collapsed": false
   },
   "outputs": [
    {
     "name": "stdout",
     "output_type": "stream",
     "text": [
      "Optimization terminated successfully.\n",
      "         Current function value: 0.310687\n",
      "         Iterations 7\n",
      "                           Logit Regression Results                           \n",
      "==============================================================================\n",
      "Dep. Variable:                  moved   No. Observations:                27340\n",
      "Model:                          Logit   Df Residuals:                    27336\n",
      "Method:                           MLE   Df Model:                            3\n",
      "Date:                Thu, 17 Aug 2017   Pseudo R-squ.:                  0.1714\n",
      "Time:                        21:34:23   Log-Likelihood:                -8494.2\n",
      "converged:                       True   LL-Null:                       -10251.\n",
      "                                        LLR p-value:                     0.000\n",
      "==============================================================================\n",
      "                 coef    std err          z      P>|z|      [0.025      0.975]\n",
      "------------------------------------------------------------------------------\n",
      "renter         1.2799      0.037     34.782      0.000       1.208       1.352\n",
      "income         0.0008      0.000      4.302      0.000       0.000       0.001\n",
      "age           -0.0494      0.001    -57.162      0.000      -0.051      -0.048\n",
      "persons       -0.1550      0.013    -12.202      0.000      -0.180      -0.130\n",
      "==============================================================================\n"
     ]
    }
   ],
   "source": [
    "results = sm.Logit.from_formula('moved ~ renter + income + age + persons - 1', pums).fit()\n",
    "print(results.summary())"
   ]
  },
  {
   "cell_type": "code",
   "execution_count": null,
   "metadata": {
    "collapsed": true
   },
   "outputs": [],
   "source": []
  },
  {
   "cell_type": "code",
   "execution_count": null,
   "metadata": {
    "collapsed": true
   },
   "outputs": [],
   "source": []
  },
  {
   "cell_type": "code",
   "execution_count": null,
   "metadata": {
    "collapsed": true
   },
   "outputs": [],
   "source": []
  },
  {
   "cell_type": "code",
   "execution_count": null,
   "metadata": {
    "collapsed": true
   },
   "outputs": [],
   "source": []
  },
  {
   "cell_type": "code",
   "execution_count": null,
   "metadata": {
    "collapsed": true
   },
   "outputs": [],
   "source": []
  }
 ],
 "metadata": {
  "kernelspec": {
   "display_name": "Python 3",
   "language": "python",
   "name": "python3"
  },
  "language_info": {
   "codemirror_mode": {
    "name": "ipython",
    "version": 3
   },
   "file_extension": ".py",
   "mimetype": "text/x-python",
   "name": "python",
   "nbconvert_exporter": "python",
   "pygments_lexer": "ipython3",
   "version": "3.6.0"
  }
 },
 "nbformat": 4,
 "nbformat_minor": 2
}
