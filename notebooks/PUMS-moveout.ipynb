{
 "cells": [
  {
   "cell_type": "markdown",
   "metadata": {},
   "source": [
    "# Replication notebook for displacement book chapter\n",
    "\n",
    "Sam Maurer, August 2017, Python 3.6"
   ]
  },
  {
   "cell_type": "code",
   "execution_count": 45,
   "metadata": {
    "collapsed": false
   },
   "outputs": [],
   "source": [
    "%matplotlib inline\n",
    "import numpy as np\n",
    "import pandas as pd\n",
    "import statsmodels.api as sm\n",
    "import zipfile\n",
    "\n",
    "import matplotlib.pylab as pylab\n",
    "import matplotlib.pyplot as plt\n",
    "pylab.rcParams['figure.figsize'] = 12, 8"
   ]
  },
  {
   "cell_type": "code",
   "execution_count": 87,
   "metadata": {
    "collapsed": true
   },
   "outputs": [],
   "source": [
    "# Load PUMS households table\n",
    "z = zipfile.ZipFile('../data/csv_hca_2013_1yr.zip')\n",
    "pums = pd.read_csv(z.open('ss13hca.csv'), low_memory=False)"
   ]
  },
  {
   "cell_type": "code",
   "execution_count": 88,
   "metadata": {
    "collapsed": false
   },
   "outputs": [
    {
     "name": "stdout",
     "output_type": "stream",
     "text": [
      "153589\n"
     ]
    }
   ],
   "source": [
    "print(len(pums))"
   ]
  },
  {
   "cell_type": "code",
   "execution_count": 89,
   "metadata": {
    "collapsed": false
   },
   "outputs": [
    {
     "name": "stdout",
     "output_type": "stream",
     "text": [
      "31068\n"
     ]
    }
   ],
   "source": [
    "# Limit to Bay Area counties\n",
    "\n",
    "pums = pums.loc[(pums.PUMA//100).isin([1,13,41,55,75,81,85,95,97])]\n",
    "print(len(pums))"
   ]
  },
  {
   "cell_type": "code",
   "execution_count": 5,
   "metadata": {
    "collapsed": true
   },
   "outputs": [],
   "source": [
    "# Load persons table\n",
    "z = zipfile.ZipFile('../data/csv_pca_2013_1yr.zip')\n",
    "persons = pd.read_csv(z.open('ss13pca.csv'), low_memory=False)"
   ]
  },
  {
   "cell_type": "code",
   "execution_count": 6,
   "metadata": {
    "collapsed": false
   },
   "outputs": [
    {
     "name": "stdout",
     "output_type": "stream",
     "text": [
      "371403\n"
     ]
    }
   ],
   "source": [
    "print(len(persons))"
   ]
  },
  {
   "cell_type": "code",
   "execution_count": 7,
   "metadata": {
    "collapsed": false
   },
   "outputs": [
    {
     "name": "stdout",
     "output_type": "stream",
     "text": [
      "130145\n"
     ]
    }
   ],
   "source": [
    "# Keep householders and relevant colums\n",
    "persons = persons.loc[persons.RELP.isin([0]), ['SERIALNO','AGEP']]\n",
    "print(len(persons))"
   ]
  },
  {
   "cell_type": "code",
   "execution_count": 8,
   "metadata": {
    "collapsed": false
   },
   "outputs": [
    {
     "name": "stdout",
     "output_type": "stream",
     "text": [
      "31068\n"
     ]
    }
   ],
   "source": [
    "# Merged with other table\n",
    "pums = pd.merge(pums, persons, how='left', on='SERIALNO')\n",
    "print(len(pums))"
   ]
  },
  {
   "cell_type": "code",
   "execution_count": 13,
   "metadata": {
    "collapsed": false
   },
   "outputs": [
    {
     "name": "stdout",
     "output_type": "stream",
     "text": [
      "1.0    11974\n",
      "3.0    10168\n",
      "2.0     4847\n",
      "4.0      351\n",
      "Name: TEN, dtype: int64\n"
     ]
    }
   ],
   "source": [
    "# TEN = Tenure\n",
    "# 1 - owned with mortgage loan\n",
    "# 2 - owned free and clear\n",
    "# 3 - rented\n",
    "# 4 - occupied without payment of rent\n",
    "\n",
    "print(pums.TEN.value_counts())"
   ]
  },
  {
   "cell_type": "code",
   "execution_count": 14,
   "metadata": {
    "collapsed": false
   },
   "outputs": [
    {
     "name": "stdout",
     "output_type": "stream",
     "text": [
      "3.0    6602\n",
      "4.0    5891\n",
      "5.0    5627\n",
      "7.0    3529\n",
      "1.0    3392\n",
      "6.0    3199\n",
      "2.0    1851\n",
      "Name: MV, dtype: int64\n"
     ]
    }
   ],
   "source": [
    "# MV = When moved into this house or apartment\n",
    "# 1 - 12 months or less\n",
    "\n",
    "print(pums.MV.value_counts())"
   ]
  },
  {
   "cell_type": "code",
   "execution_count": 17,
   "metadata": {
    "collapsed": false
   },
   "outputs": [
    {
     "name": "stdout",
     "output_type": "stream",
     "text": [
      "2489\n",
      "861\n"
     ]
    }
   ],
   "source": [
    "print(len(pums.loc[pums.MV.isin([1]) & pums.TEN.isin([3])]))  # recent movers who rent\n",
    "print(len(pums.loc[pums.MV.isin([1]) & pums.TEN.isin([1,2])]))  # recent movers who own"
   ]
  },
  {
   "cell_type": "code",
   "execution_count": null,
   "metadata": {
    "collapsed": true
   },
   "outputs": [],
   "source": []
  },
  {
   "cell_type": "code",
   "execution_count": 15,
   "metadata": {
    "collapsed": false
   },
   "outputs": [
    {
     "name": "stdout",
     "output_type": "stream",
     "text": [
      "   moved  renter   age  income  persons\n",
      "0      0       0  45.0    16.0        2\n",
      "1      0       1  64.0     9.4        2\n",
      "2      0       0  73.0   193.5        2\n",
      "3      0       0  44.0   224.0        4\n",
      "4      0       1  32.0     8.4        4\n"
     ]
    }
   ],
   "source": [
    "# Variables for regression\n",
    "\n",
    "pums['moved'] = pums.MV.isin([1]).astype(int)\n",
    "pums['renter'] = pums.TEN.isin([3]).astype(int)\n",
    "pums['age'] = pums.AGEP\n",
    "pums['income'] = pums.HINCP / 1000\n",
    "pums['persons'] = pums.NP\n",
    "\n",
    "print(pums.loc[:,['moved','renter','age','income','persons']].head())"
   ]
  },
  {
   "cell_type": "code",
   "execution_count": 34,
   "metadata": {
    "collapsed": false
   },
   "outputs": [
    {
     "name": "stdout",
     "output_type": "stream",
     "text": [
      "Optimization terminated successfully.\n",
      "         Current function value: 0.310687\n",
      "         Iterations 7\n",
      "                           Logit Regression Results                           \n",
      "==============================================================================\n",
      "Dep. Variable:                  moved   No. Observations:                27340\n",
      "Model:                          Logit   Df Residuals:                    27336\n",
      "Method:                           MLE   Df Model:                            3\n",
      "Date:                Thu, 17 Aug 2017   Pseudo R-squ.:                  0.1714\n",
      "Time:                        21:34:23   Log-Likelihood:                -8494.2\n",
      "converged:                       True   LL-Null:                       -10251.\n",
      "                                        LLR p-value:                     0.000\n",
      "==============================================================================\n",
      "                 coef    std err          z      P>|z|      [0.025      0.975]\n",
      "------------------------------------------------------------------------------\n",
      "renter         1.2799      0.037     34.782      0.000       1.208       1.352\n",
      "income         0.0008      0.000      4.302      0.000       0.000       0.001\n",
      "age           -0.0494      0.001    -57.162      0.000      -0.051      -0.048\n",
      "persons       -0.1550      0.013    -12.202      0.000      -0.180      -0.130\n",
      "==============================================================================\n"
     ]
    }
   ],
   "source": [
    "results = sm.Logit.from_formula('moved ~ renter + income + age + persons - 1', pums).fit()\n",
    "print(results.summary())"
   ]
  },
  {
   "cell_type": "code",
   "execution_count": null,
   "metadata": {
    "collapsed": true
   },
   "outputs": [],
   "source": []
  },
  {
   "cell_type": "markdown",
   "metadata": {},
   "source": [
    "## Bar plot of rents by county"
   ]
  },
  {
   "cell_type": "code",
   "execution_count": 101,
   "metadata": {
    "collapsed": false
   },
   "outputs": [
    {
     "name": "stdout",
     "output_type": "stream",
     "text": [
      "     rent  CFIPS\n",
      "2     NaN     85\n",
      "9   770.0      1\n",
      "21    NaN     85\n",
      "25    NaN     55\n",
      "28  750.0     13\n"
     ]
    }
   ],
   "source": [
    "pums['rent'] = pums.RNTP\n",
    "pums['CFIPS'] = pums.PUMA // 100  # 3 digits of county FIPS, 2 digits of PUMA id\n",
    "\n",
    "print(pums.loc[:,['rent','CFIPS']].head())"
   ]
  },
  {
   "cell_type": "code",
   "execution_count": 36,
   "metadata": {
    "collapsed": false
   },
   "outputs": [
    {
     "data": {
      "text/plain": [
       "85    7348\n",
       "1     6949\n",
       "13    4019\n",
       "75    3739\n",
       "81    3031\n",
       "97    2203\n",
       "95    1809\n",
       "41    1179\n",
       "55     791\n",
       "Name: CFIPS, dtype: int64"
      ]
     },
     "execution_count": 36,
     "metadata": {},
     "output_type": "execute_result"
    }
   ],
   "source": [
    "pums.CFIPS.value_counts()"
   ]
  },
  {
   "cell_type": "code",
   "execution_count": null,
   "metadata": {
    "collapsed": false
   },
   "outputs": [],
   "source": []
  },
  {
   "cell_type": "code",
   "execution_count": 47,
   "metadata": {
    "collapsed": false
   },
   "outputs": [
    {
     "name": "stdout",
     "output_type": "stream",
     "text": [
      "CFIPS\n",
      "1     1400.0\n",
      "13    1300.0\n",
      "41    1600.0\n",
      "55    1700.0\n",
      "75    2000.0\n",
      "81    1800.0\n",
      "85    1700.0\n",
      "95    1200.0\n",
      "97    1300.0\n",
      "Name: rent, dtype: float64\n"
     ]
    }
   ],
   "source": [
    "movers = pums.loc[pums.moved == 1]\n",
    "movers_rent = movers.groupby('CFIPS').median().rent\n",
    "print(movers_rent)"
   ]
  },
  {
   "cell_type": "code",
   "execution_count": 40,
   "metadata": {
    "collapsed": false
   },
   "outputs": [
    {
     "name": "stdout",
     "output_type": "stream",
     "text": [
      "CFIPS\n",
      "1     1200.0\n",
      "13    1300.0\n",
      "41    1500.0\n",
      "55    1200.0\n",
      "75    1400.0\n",
      "81    1500.0\n",
      "85    1500.0\n",
      "95    1100.0\n",
      "97    1200.0\n",
      "Name: rent, dtype: float64\n"
     ]
    }
   ],
   "source": [
    "non_movers = pums.loc[pums.moved == 0]\n",
    "non_movers_rent = non_movers.groupby('CFIPS').median().rent\n",
    "print(non_movers_rent)"
   ]
  },
  {
   "cell_type": "code",
   "execution_count": 59,
   "metadata": {
    "collapsed": false
   },
   "outputs": [
    {
     "data": {
      "image/png": "[encoded data removed]",
      "text/plain": [
       "<matplotlib.figure.Figure at 0x1106f0b38>"
      ]
     },
     "metadata": {},
     "output_type": "display_data"
    }
   ],
   "source": [
    "n = 9\n",
    "ind = np.arange(n)\n",
    "width = 0.3\n",
    "\n",
    "fig, ax = plt.subplots(figsize=(12,6))\n",
    "rects1 = ax.bar(ind, non_movers_rent, width, color=(0.6, 0.6, 0.6))\n",
    "rects2 = ax.bar(ind+width, movers_rent, width, color=(0.2, 0.2, 0.2))\n",
    "\n",
    "ax.set_ylabel('Monthly rent in dollars')\n",
    "ax.set_title('Median rent by county and time in current location')\n",
    "ax.set_xticks(ind + width / 2)\n",
    "ax.set_xticklabels(('Alameda', 'Contra Costa', 'Marin', 'Napa', 'San Francisco', 'San Mateo',\n",
    "                    'Santa Clara', 'Solano', 'Sonoma'))\n",
    "\n",
    "ax.legend((rects1[0], rects2[0]), ('Not a recent mover', 'Recent mover (within 1 year)'))\n",
    "plt.show()"
   ]
  },
  {
   "cell_type": "code",
   "execution_count": 60,
   "metadata": {
    "collapsed": true
   },
   "outputs": [],
   "source": [
    "fig.savefig('../output/figure-median-rent.pdf')"
   ]
  },
  {
   "cell_type": "code",
   "execution_count": null,
   "metadata": {
    "collapsed": true
   },
   "outputs": [],
   "source": []
  },
  {
   "cell_type": "markdown",
   "metadata": {},
   "source": [
    "## Rent burden"
   ]
  },
  {
   "cell_type": "code",
   "execution_count": 90,
   "metadata": {
    "collapsed": false
   },
   "outputs": [],
   "source": [
    "pums['rent'] = pums.RNTP\n",
    "pums['income'] = pums.HINCP\n",
    "pums['moved'] = pums.MV.isin([1]).astype(int)"
   ]
  },
  {
   "cell_type": "code",
   "execution_count": 91,
   "metadata": {
    "collapsed": true
   },
   "outputs": [],
   "source": [
    "pums.loc[pums.income > 0, 'rent_burden'] = (pums.rent * 12) / pums.income"
   ]
  },
  {
   "cell_type": "code",
   "execution_count": 95,
   "metadata": {
    "collapsed": false
   },
   "outputs": [],
   "source": [
    "movers = pums.loc[(pums.rent > 0) & (pums.moved == 1)]\n",
    "non_movers = pums.loc[(pums.rent > 0) & (pums.moved == 0)]"
   ]
  },
  {
   "cell_type": "code",
   "execution_count": 105,
   "metadata": {
    "collapsed": false
   },
   "outputs": [
    {
     "data": {
      "text/plain": [
       "<matplotlib.text.Text at 0x1150017f0>"
      ]
     },
     "execution_count": 105,
     "metadata": {},
     "output_type": "execute_result"
    },
    {
     "data": {
      "image/png": "[encoded data removed]",
      "text/plain": [
       "<matplotlib.figure.Figure at 0x1145a6400>"
      ]
     },
     "metadata": {},
     "output_type": "display_data"
    }
   ],
   "source": [
    "rent_burden.hist(range=(0,1.2), bins=50, figsize=(12,6))\n",
    "plt.title('Rent cost burden for Bay Area renters')"
   ]
  },
  {
   "cell_type": "code",
   "execution_count": 106,
   "metadata": {
    "collapsed": false
   },
   "outputs": [
    {
     "name": "stderr",
     "output_type": "stream",
     "text": [
      "/Users/maurer/anaconda/lib/python3.6/site-packages/numpy/lib/function_base.py:583: RuntimeWarning: invalid value encountered in greater_equal\n",
      "  keep = (tmp_a >= mn)\n",
      "/Users/maurer/anaconda/lib/python3.6/site-packages/numpy/lib/function_base.py:584: RuntimeWarning: invalid value encountered in less_equal\n",
      "  keep &= (tmp_a <= mx)\n"
     ]
    },
    {
     "data": {
      "image/png": "[encoded data removed]",
      "text/plain": [
       "<matplotlib.figure.Figure at 0x11521d588>"
      ]
     },
     "metadata": {},
     "output_type": "display_data"
    }
   ],
   "source": [
    "fig, ax = plt.subplots(figsize=(12,6))\n",
    "\n",
    "ax.hist(non_movers.rent_burden, range=(0,1.2), bins=50, normed=True, alpha=0.5, label='Not a recent mover')\n",
    "ax.hist(movers.rent_burden, range=(0,1.2), bins=50, normed=True, alpha=0.5, label='Recent mover (within 1 year)')\n",
    "\n",
    "plt.title('Rent cost burden')\n",
    "plt.legend()\n",
    "plt.show()"
   ]
  },
  {
   "cell_type": "code",
   "execution_count": 102,
   "metadata": {
    "collapsed": true
   },
   "outputs": [],
   "source": [
    "sf_movers = pums.loc[(pums.CFIPS == 75) & (pums.rent > 0) & (pums.moved == 1)]\n",
    "sf_non_movers = pums.loc[(pums.CFIPS == 75) & (pums.rent > 0) & (pums.moved == 0)]"
   ]
  },
  {
   "cell_type": "code",
   "execution_count": 107,
   "metadata": {
    "collapsed": false
   },
   "outputs": [
    {
     "name": "stderr",
     "output_type": "stream",
     "text": [
      "/Users/maurer/anaconda/lib/python3.6/site-packages/numpy/lib/function_base.py:583: RuntimeWarning: invalid value encountered in greater_equal\n",
      "  keep = (tmp_a >= mn)\n",
      "/Users/maurer/anaconda/lib/python3.6/site-packages/numpy/lib/function_base.py:584: RuntimeWarning: invalid value encountered in less_equal\n",
      "  keep &= (tmp_a <= mx)\n"
     ]
    },
    {
     "data": {
      "image/png": "[encoded data removed]",
      "text/plain": [
       "<matplotlib.figure.Figure at 0x10e9ee128>"
      ]
     },
     "metadata": {},
     "output_type": "display_data"
    }
   ],
   "source": [
    "fig, ax = plt.subplots(figsize=(12,6))\n",
    "\n",
    "ax.hist(sf_non_movers.rent_burden, range=(0,1.2), bins=25, normed=True, alpha=0.5, label='Not a recent mover')\n",
    "ax.hist(sf_movers.rent_burden, range=(0,1.2), bins=25, normed=True, alpha=0.5, label='Recent mover (within 1 year)')\n",
    "\n",
    "plt.title('Cost burden for San Francisco renters')\n",
    "plt.legend()\n",
    "plt.show()"
   ]
  },
  {
   "cell_type": "code",
   "execution_count": 112,
   "metadata": {
    "collapsed": false
   },
   "outputs": [
    {
     "data": {
      "image/png": "[encoded data removed]",
      "text/plain": [
       "<matplotlib.figure.Figure at 0x114248f60>"
      ]
     },
     "metadata": {},
     "output_type": "display_data"
    }
   ],
   "source": [
    "fig, ax = plt.subplots(figsize=(12,6))\n",
    "\n",
    "pums.rent_burden.hist(range=(0,1.2), bins=30, color='grey')\n",
    "\n",
    "plt.title('Housing cost burden for Bay Area renters')\n",
    "ax.set_xlabel('Portion of income spent on rent')\n",
    "ax.set_ylabel('Portion of households')\n",
    "ax.set_yticklabels('')\n",
    "\n",
    "plt.show()"
   ]
  },
  {
   "cell_type": "code",
   "execution_count": 113,
   "metadata": {
    "collapsed": true
   },
   "outputs": [],
   "source": [
    "fig.savefig('../output/figure-cost-burden.pdf')"
   ]
  },
  {
   "cell_type": "code",
   "execution_count": null,
   "metadata": {
    "collapsed": true
   },
   "outputs": [],
   "source": []
  },
  {
   "cell_type": "code",
   "execution_count": null,
   "metadata": {
    "collapsed": true
   },
   "outputs": [],
   "source": []
  },
  {
   "cell_type": "code",
   "execution_count": null,
   "metadata": {
    "collapsed": true
   },
   "outputs": [],
   "source": []
  }
 ],
 "metadata": {
  "kernelspec": {
   "display_name": "Python 3",
   "language": "python",
   "name": "python3"
  },
  "language_info": {
   "codemirror_mode": {
    "name": "ipython",
    "version": 3
   },
   "file_extension": ".py",
   "mimetype": "text/x-python",
   "name": "python",
   "nbconvert_exporter": "python",
   "pygments_lexer": "ipython3",
   "version": "3.6.0"
  }
 },
 "nbformat": 4,
 "nbformat_minor": 2
}
